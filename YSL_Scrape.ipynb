{
 "cells": [
  {
   "cell_type": "code",
   "execution_count": 2,
   "metadata": {},
   "outputs": [],
   "source": [
    "from requests_html import HTMLSession\n",
    "session = HTMLSession();\n",
    "response = session.get('https://www.ysl.com/us/saint-laurent/shop-product/women/new-arrivals#%7B%22ytosQuery%22%3A%22true%22%2C%22department%22%3A%22new_arrivals_w%22%2C%22gender%22%3A%22D%22%2C%22season%22%3A%22A%2CP%2CE%22%2C%22yurirulename%22%3A%22searchwithdepartment%22%2C%22macroMarchio%22%3A%2224494%22%2C%22page%22%3A%228%22%2C%22productsPerPage%22%3A%2224%22%2C%22suggestion%22%3A%22false%22%2C%22facetsvalue%22%3A%5B%5D%2C%22totalPages%22%3A12%2C%22rsiUsed%22%3A%22false%22%2C%22totalItems%22%3A%22288%22%2C%22partialLoadedItems%22%3A%2224%22%2C%22itemsToLoadOnNextPage%22%3A%2224%22%2C%22lazyLoadStart%22%3A6%7D')\n",
    "\n"
   ]
  },
  {
   "cell_type": "code",
   "execution_count": 3,
   "metadata": {},
   "outputs": [
    {
     "data": {
      "text/html": [
       "<div>\n",
       "<style scoped>\n",
       "    .dataframe tbody tr th:only-of-type {\n",
       "        vertical-align: middle;\n",
       "    }\n",
       "\n",
       "    .dataframe tbody tr th {\n",
       "        vertical-align: top;\n",
       "    }\n",
       "\n",
       "    .dataframe thead th {\n",
       "        text-align: right;\n",
       "    }\n",
       "</style>\n",
       "<table border=\"1\" class=\"dataframe\">\n",
       "  <thead>\n",
       "    <tr style=\"text-align: right;\">\n",
       "      <th></th>\n",
       "      <th>id</th>\n",
       "      <th>title</th>\n",
       "      <th>images</th>\n",
       "      <th>description</th>\n",
       "    </tr>\n",
       "  </thead>\n",
       "  <tbody>\n",
       "  </tbody>\n",
       "</table>\n",
       "</div>"
      ],
      "text/plain": [
       "Empty DataFrame\n",
       "Columns: [id, title, images, description]\n",
       "Index: []"
      ]
     },
     "execution_count": 3,
     "metadata": {},
     "output_type": "execute_result"
    }
   ],
   "source": [
    "import pandas as pd\n",
    "clist_df = pd.DataFrame(columns=['id','title','images','description'])\n",
    "clist_df"
   ]
  },
  {
   "cell_type": "code",
   "execution_count": 379,
   "metadata": {},
   "outputs": [
    {
     "name": "stdout",
     "output_type": "stream",
     "text": [
      "[]\n"
     ]
    }
   ],
   "source": [
    "# html elements\n",
    "link_tags = response.html.find(\"src\")\n",
    "print(link_tags)\n",
    "\n",
    "# attributes\n",
    "\n"
   ]
  },
  {
   "cell_type": "code",
   "execution_count": 4,
   "metadata": {
    "scrolled": true
   },
   "outputs": [
    {
     "name": "stdout",
     "output_type": "stream",
     "text": [
      "90\n"
     ]
    },
    {
     "data": {
      "text/plain": [
       "list"
      ]
     },
     "execution_count": 4,
     "metadata": {},
     "output_type": "execute_result"
    }
   ],
   "source": [
    "img_class = response.html.find('.mainImage')\n",
    "\n",
    "print(len(img_class))\n",
    "\n",
    "# print(img_class[3])\n",
    "# new = img_class[3]\n",
    "\n"
   ]
  },
  {
   "cell_type": "code",
   "execution_count": null,
   "metadata": {},
   "outputs": [],
   "source": []
  },
  {
   "cell_type": "code",
   "execution_count": 11,
   "metadata": {},
   "outputs": [
    {
     "name": "stdout",
     "output_type": "stream",
     "text": [
      "None\n",
      "end\n",
      "None\n",
      "end\n",
      "None\n",
      "end\n",
      "None\n",
      "end\n",
      "None\n",
      "end\n",
      "None\n",
      "end\n",
      "https://www.ysl.com/49/49537173CK_14_a_V4.jpg?impolicy=ysl&imwidth=131&imdensity=1 131w,https://www.ysl.com/49/49537173CK_14_a_V4.jpg?impolicy=ysl&imwidth=138&imdensity=1 138w,https://www.ysl.com/49/49537173CK_14_a_V4.jpg?impolicy=ysl&imwidth=154&imdensity=1 154w,https://www.ysl.com/49/49537173CK_14_a_V4.jpg?impolicy=ysl&imwidth=186&imdensity=1 186w,https://www.ysl.com/49/49537173CK_14_a_V4.jpg?impolicy=ysl&imwidth=284&imdensity=1 284w,https://www.ysl.com/49/49537173CK_14_a_V4.jpg?impolicy=ysl&imwidth=378&imdensity=1 378w\n",
      "end\n",
      "https://www.ysl.com/15/15004852HT_14_a_V4.jpg?impolicy=ysl&imwidth=131&imdensity=1 131w,https://www.ysl.com/15/15004852HT_14_a_V4.jpg?impolicy=ysl&imwidth=138&imdensity=1 138w,https://www.ysl.com/15/15004852HT_14_a_V4.jpg?impolicy=ysl&imwidth=154&imdensity=1 154w,https://www.ysl.com/15/15004852HT_14_a_V4.jpg?impolicy=ysl&imwidth=186&imdensity=1 186w,https://www.ysl.com/15/15004852HT_14_a_V4.jpg?impolicy=ysl&imwidth=284&imdensity=1 284w,https://www.ysl.com/15/15004852HT_14_a_V4.jpg?impolicy=ysl&imwidth=378&imdensity=1 378w\n",
      "end\n",
      "https://www.ysl.com/15/15004849RM_14_a_V4.jpg?impolicy=ysl&imwidth=131&imdensity=1 131w,https://www.ysl.com/15/15004849RM_14_a_V4.jpg?impolicy=ysl&imwidth=138&imdensity=1 138w,https://www.ysl.com/15/15004849RM_14_a_V4.jpg?impolicy=ysl&imwidth=154&imdensity=1 154w,https://www.ysl.com/15/15004849RM_14_a_V4.jpg?impolicy=ysl&imwidth=186&imdensity=1 186w,https://www.ysl.com/15/15004849RM_14_a_V4.jpg?impolicy=ysl&imwidth=284&imdensity=1 284w,https://www.ysl.com/15/15004849RM_14_a_V4.jpg?impolicy=ysl&imwidth=378&imdensity=1 378w\n",
      "end\n",
      "https://www.ysl.com/49/49533983KU_14_a_V4.jpg?impolicy=ysl&imwidth=131&imdensity=1 131w,https://www.ysl.com/49/49533983KU_14_a_V4.jpg?impolicy=ysl&imwidth=138&imdensity=1 138w,https://www.ysl.com/49/49533983KU_14_a_V4.jpg?impolicy=ysl&imwidth=154&imdensity=1 154w,https://www.ysl.com/49/49533983KU_14_a_V4.jpg?impolicy=ysl&imwidth=186&imdensity=1 186w,https://www.ysl.com/49/49533983KU_14_a_V4.jpg?impolicy=ysl&imwidth=284&imdensity=1 284w,https://www.ysl.com/49/49533983KU_14_a_V4.jpg?impolicy=ysl&imwidth=378&imdensity=1 378w\n",
      "end\n",
      "https://www.ysl.com/49/49533980KE_14_a_V4.jpg?impolicy=ysl&imwidth=131&imdensity=1 131w,https://www.ysl.com/49/49533980KE_14_a_V4.jpg?impolicy=ysl&imwidth=138&imdensity=1 138w,https://www.ysl.com/49/49533980KE_14_a_V4.jpg?impolicy=ysl&imwidth=154&imdensity=1 154w,https://www.ysl.com/49/49533980KE_14_a_V4.jpg?impolicy=ysl&imwidth=186&imdensity=1 186w,https://www.ysl.com/49/49533980KE_14_a_V4.jpg?impolicy=ysl&imwidth=284&imdensity=1 284w,https://www.ysl.com/49/49533980KE_14_a_V4.jpg?impolicy=ysl&imwidth=378&imdensity=1 378w\n",
      "end\n",
      "https://www.ysl.com/15/15004873AI_14_a_V4.jpg?impolicy=ysl&imwidth=131&imdensity=1 131w,https://www.ysl.com/15/15004873AI_14_a_V4.jpg?impolicy=ysl&imwidth=138&imdensity=1 138w,https://www.ysl.com/15/15004873AI_14_a_V4.jpg?impolicy=ysl&imwidth=154&imdensity=1 154w,https://www.ysl.com/15/15004873AI_14_a_V4.jpg?impolicy=ysl&imwidth=186&imdensity=1 186w,https://www.ysl.com/15/15004873AI_14_a_V4.jpg?impolicy=ysl&imwidth=284&imdensity=1 284w,https://www.ysl.com/15/15004873AI_14_a_V4.jpg?impolicy=ysl&imwidth=378&imdensity=1 378w\n",
      "end\n",
      "https://www.ysl.com/38/38887203MC_14_a_V4.jpg?impolicy=ysl&imwidth=131&imdensity=1 131w,https://www.ysl.com/38/38887203MC_14_a_V4.jpg?impolicy=ysl&imwidth=138&imdensity=1 138w,https://www.ysl.com/38/38887203MC_14_a_V4.jpg?impolicy=ysl&imwidth=154&imdensity=1 154w,https://www.ysl.com/38/38887203MC_14_a_V4.jpg?impolicy=ysl&imwidth=186&imdensity=1 186w,https://www.ysl.com/38/38887203MC_14_a_V4.jpg?impolicy=ysl&imwidth=284&imdensity=1 284w,https://www.ysl.com/38/38887203MC_14_a_V4.jpg?impolicy=ysl&imwidth=378&imdensity=1 378w\n",
      "end\n",
      "https://www.ysl.com/12/12404661TD_14_a_V4.jpg?impolicy=ysl&imwidth=131&imdensity=1 131w,https://www.ysl.com/12/12404661TD_14_a_V4.jpg?impolicy=ysl&imwidth=138&imdensity=1 138w,https://www.ysl.com/12/12404661TD_14_a_V4.jpg?impolicy=ysl&imwidth=154&imdensity=1 154w,https://www.ysl.com/12/12404661TD_14_a_V4.jpg?impolicy=ysl&imwidth=186&imdensity=1 186w,https://www.ysl.com/12/12404661TD_14_a_V4.jpg?impolicy=ysl&imwidth=284&imdensity=1 284w,https://www.ysl.com/12/12404661TD_14_a_V4.jpg?impolicy=ysl&imwidth=378&imdensity=1 378w\n",
      "end\n",
      "https://www.ysl.com/12/12404666XT_14_a_V4.jpg?impolicy=ysl&imwidth=131&imdensity=1 131w,https://www.ysl.com/12/12404666XT_14_a_V4.jpg?impolicy=ysl&imwidth=138&imdensity=1 138w,https://www.ysl.com/12/12404666XT_14_a_V4.jpg?impolicy=ysl&imwidth=154&imdensity=1 154w,https://www.ysl.com/12/12404666XT_14_a_V4.jpg?impolicy=ysl&imwidth=186&imdensity=1 186w,https://www.ysl.com/12/12404666XT_14_a_V4.jpg?impolicy=ysl&imwidth=284&imdensity=1 284w,https://www.ysl.com/12/12404666XT_14_a_V4.jpg?impolicy=ysl&imwidth=378&imdensity=1 378w\n",
      "end\n",
      "https://www.ysl.com/12/12404671TX_14_a_V4.jpg?impolicy=ysl&imwidth=131&imdensity=1 131w,https://www.ysl.com/12/12404671TX_14_a_V4.jpg?impolicy=ysl&imwidth=138&imdensity=1 138w,https://www.ysl.com/12/12404671TX_14_a_V4.jpg?impolicy=ysl&imwidth=154&imdensity=1 154w,https://www.ysl.com/12/12404671TX_14_a_V4.jpg?impolicy=ysl&imwidth=186&imdensity=1 186w,https://www.ysl.com/12/12404671TX_14_a_V4.jpg?impolicy=ysl&imwidth=284&imdensity=1 284w,https://www.ysl.com/12/12404671TX_14_a_V4.jpg?impolicy=ysl&imwidth=378&imdensity=1 378w\n",
      "end\n",
      "https://www.ysl.com/12/12404670NB_14_a_V4.jpg?impolicy=ysl&imwidth=131&imdensity=1 131w,https://www.ysl.com/12/12404670NB_14_a_V4.jpg?impolicy=ysl&imwidth=138&imdensity=1 138w,https://www.ysl.com/12/12404670NB_14_a_V4.jpg?impolicy=ysl&imwidth=154&imdensity=1 154w,https://www.ysl.com/12/12404670NB_14_a_V4.jpg?impolicy=ysl&imwidth=186&imdensity=1 186w,https://www.ysl.com/12/12404670NB_14_a_V4.jpg?impolicy=ysl&imwidth=284&imdensity=1 284w,https://www.ysl.com/12/12404670NB_14_a_V4.jpg?impolicy=ysl&imwidth=378&imdensity=1 378w\n",
      "end\n",
      "https://www.ysl.com/12/12404646EM_14_a_V4.jpg?impolicy=ysl&imwidth=131&imdensity=1 131w,https://www.ysl.com/12/12404646EM_14_a_V4.jpg?impolicy=ysl&imwidth=138&imdensity=1 138w,https://www.ysl.com/12/12404646EM_14_a_V4.jpg?impolicy=ysl&imwidth=154&imdensity=1 154w,https://www.ysl.com/12/12404646EM_14_a_V4.jpg?impolicy=ysl&imwidth=186&imdensity=1 186w,https://www.ysl.com/12/12404646EM_14_a_V4.jpg?impolicy=ysl&imwidth=284&imdensity=1 284w,https://www.ysl.com/12/12404646EM_14_a_V4.jpg?impolicy=ysl&imwidth=378&imdensity=1 378w\n",
      "end\n",
      "https://www.ysl.com/35/35428175UF_14_a_V4.jpg?impolicy=ysl&imwidth=131&imdensity=1 131w,https://www.ysl.com/35/35428175UF_14_a_V4.jpg?impolicy=ysl&imwidth=138&imdensity=1 138w,https://www.ysl.com/35/35428175UF_14_a_V4.jpg?impolicy=ysl&imwidth=154&imdensity=1 154w,https://www.ysl.com/35/35428175UF_14_a_V4.jpg?impolicy=ysl&imwidth=186&imdensity=1 186w,https://www.ysl.com/35/35428175UF_14_a_V4.jpg?impolicy=ysl&imwidth=284&imdensity=1 284w,https://www.ysl.com/35/35428175UF_14_a_V4.jpg?impolicy=ysl&imwidth=378&imdensity=1 378w\n",
      "end\n",
      "https://www.ysl.com/40/40123758VR_14_a_V4.jpg?impolicy=ysl&imwidth=131&imdensity=1 131w,https://www.ysl.com/40/40123758VR_14_a_V4.jpg?impolicy=ysl&imwidth=138&imdensity=1 138w,https://www.ysl.com/40/40123758VR_14_a_V4.jpg?impolicy=ysl&imwidth=154&imdensity=1 154w,https://www.ysl.com/40/40123758VR_14_a_V4.jpg?impolicy=ysl&imwidth=186&imdensity=1 186w,https://www.ysl.com/40/40123758VR_14_a_V4.jpg?impolicy=ysl&imwidth=284&imdensity=1 284w,https://www.ysl.com/40/40123758VR_14_a_V4.jpg?impolicy=ysl&imwidth=378&imdensity=1 378w\n",
      "end\n",
      "https://www.ysl.com/13/13413045AJ_14_a_V4.jpg?impolicy=ysl&imwidth=131&imdensity=1 131w,https://www.ysl.com/13/13413045AJ_14_a_V4.jpg?impolicy=ysl&imwidth=138&imdensity=1 138w,https://www.ysl.com/13/13413045AJ_14_a_V4.jpg?impolicy=ysl&imwidth=154&imdensity=1 154w,https://www.ysl.com/13/13413045AJ_14_a_V4.jpg?impolicy=ysl&imwidth=186&imdensity=1 186w,https://www.ysl.com/13/13413045AJ_14_a_V4.jpg?impolicy=ysl&imwidth=284&imdensity=1 284w,https://www.ysl.com/13/13413045AJ_14_a_V4.jpg?impolicy=ysl&imwidth=378&imdensity=1 378w\n",
      "end\n",
      "https://www.ysl.com/13/13413048QV_14_a_V4.jpg?impolicy=ysl&imwidth=131&imdensity=1 131w,https://www.ysl.com/13/13413048QV_14_a_V4.jpg?impolicy=ysl&imwidth=138&imdensity=1 138w,https://www.ysl.com/13/13413048QV_14_a_V4.jpg?impolicy=ysl&imwidth=154&imdensity=1 154w,https://www.ysl.com/13/13413048QV_14_a_V4.jpg?impolicy=ysl&imwidth=186&imdensity=1 186w,https://www.ysl.com/13/13413048QV_14_a_V4.jpg?impolicy=ysl&imwidth=284&imdensity=1 284w,https://www.ysl.com/13/13413048QV_14_a_V4.jpg?impolicy=ysl&imwidth=378&imdensity=1 378w\n",
      "end\n",
      "https://www.ysl.com/13/13413049MG_14_a_V4.jpg?impolicy=ysl&imwidth=131&imdensity=1 131w,https://www.ysl.com/13/13413049MG_14_a_V4.jpg?impolicy=ysl&imwidth=138&imdensity=1 138w,https://www.ysl.com/13/13413049MG_14_a_V4.jpg?impolicy=ysl&imwidth=154&imdensity=1 154w,https://www.ysl.com/13/13413049MG_14_a_V4.jpg?impolicy=ysl&imwidth=186&imdensity=1 186w,https://www.ysl.com/13/13413049MG_14_a_V4.jpg?impolicy=ysl&imwidth=284&imdensity=1 284w,https://www.ysl.com/13/13413049MG_14_a_V4.jpg?impolicy=ysl&imwidth=378&imdensity=1 378w\n",
      "end\n",
      "https://www.ysl.com/40/40125595OB_14_a_V4.jpg?impolicy=ysl&imwidth=131&imdensity=1 131w,https://www.ysl.com/40/40125595OB_14_a_V4.jpg?impolicy=ysl&imwidth=138&imdensity=1 138w,https://www.ysl.com/40/40125595OB_14_a_V4.jpg?impolicy=ysl&imwidth=154&imdensity=1 154w,https://www.ysl.com/40/40125595OB_14_a_V4.jpg?impolicy=ysl&imwidth=186&imdensity=1 186w,https://www.ysl.com/40/40125595OB_14_a_V4.jpg?impolicy=ysl&imwidth=284&imdensity=1 284w,https://www.ysl.com/40/40125595OB_14_a_V4.jpg?impolicy=ysl&imwidth=378&imdensity=1 378w\n",
      "end\n"
     ]
    }
   ],
   "source": [
    "images = response.html.find('.image > img:first-child')\n",
    "\n",
    "image_url = []\n",
    "for image in images:\n",
    "#     print(image)\n",
    "    print(image.attrs.get('data-srcset'))\n",
    "    print(\"end\")\n",
    "#     links.append(link.attrs.get('src'))\n",
    "    "
   ]
  },
  {
   "cell_type": "code",
   "execution_count": 384,
   "metadata": {},
   "outputs": [
    {
     "name": "stdout",
     "output_type": "stream",
     "text": [
      "https://www.ysl.com/34/34962680VD_12_a_V4.jpg\n",
      "https://www.ysl.com/34/34980417BQ_12_a_V4.jpg\n",
      "https://www.ysl.com/34/34962679DG_12_a_V4.jpg\n",
      "https://www.ysl.com/34/34980415JV_12_a_V4.jpg\n",
      "https://www.ysl.com/34/34978710PT_12_a_V4.jpg\n",
      "https://www.ysl.com/34/34980419RX_12_a_V4.jpg\n"
     ]
    }
   ],
   "source": [
    "def myFilter(links):\n",
    "    if 'jpg' in links:\n",
    "        return True \n",
    "    else: \n",
    "        return False\n",
    "\n",
    "\n",
    "filtered_names=filter(myFilter,links)\n",
    "\n",
    "for links in filtered_names:\n",
    "    print(links)\n"
   ]
  },
  {
   "cell_type": "code",
   "execution_count": 372,
   "metadata": {},
   "outputs": [],
   "source": [
    "# link.attrs.get('img.alt')\n",
    "# response.html.find('img.alt')"
   ]
  },
  {
   "cell_type": "code",
   "execution_count": 359,
   "metadata": {},
   "outputs": [
    {
     "ename": "MissingSchema",
     "evalue": "Invalid URL 'h': No schema supplied. Perhaps you meant http://h?",
     "output_type": "error",
     "traceback": [
      "\u001b[0;31m---------------------------------------------------------------------------\u001b[0m",
      "\u001b[0;31mMissingSchema\u001b[0m                             Traceback (most recent call last)",
      "\u001b[0;32m<ipython-input-359-e77665fbdc1b>\u001b[0m in \u001b[0;36m<module>\u001b[0;34m\u001b[0m\n\u001b[1;32m      1\u001b[0m \u001b[0;32mfor\u001b[0m \u001b[0mlink\u001b[0m \u001b[0;32min\u001b[0m \u001b[0mlinks\u001b[0m\u001b[0;34m:\u001b[0m\u001b[0;34m\u001b[0m\u001b[0;34m\u001b[0m\u001b[0m\n\u001b[0;32m----> 2\u001b[0;31m     \u001b[0mresponse\u001b[0m \u001b[0;34m=\u001b[0m \u001b[0msession\u001b[0m\u001b[0;34m.\u001b[0m\u001b[0mget\u001b[0m\u001b[0;34m(\u001b[0m\u001b[0mlink\u001b[0m\u001b[0;34m)\u001b[0m\u001b[0;34m\u001b[0m\u001b[0;34m\u001b[0m\u001b[0m\n\u001b[0m\u001b[1;32m      3\u001b[0m \u001b[0;34m\u001b[0m\u001b[0m\n\u001b[1;32m      4\u001b[0m     \u001b[0;31m# Web scraping often breaks due to small errors, so it can\u001b[0m\u001b[0;34m\u001b[0m\u001b[0;34m\u001b[0m\u001b[0;34m\u001b[0m\u001b[0m\n\u001b[1;32m      5\u001b[0m     \u001b[0;31m# be easiest to wrap our code in a try block and grab the errors\u001b[0m\u001b[0;34m\u001b[0m\u001b[0;34m\u001b[0m\u001b[0;34m\u001b[0m\u001b[0m\n",
      "\u001b[0;32m/usr/local/lib/python3.7/site-packages/requests/sessions.py\u001b[0m in \u001b[0;36mget\u001b[0;34m(self, url, **kwargs)\u001b[0m\n\u001b[1;32m    544\u001b[0m \u001b[0;34m\u001b[0m\u001b[0m\n\u001b[1;32m    545\u001b[0m         \u001b[0mkwargs\u001b[0m\u001b[0;34m.\u001b[0m\u001b[0msetdefault\u001b[0m\u001b[0;34m(\u001b[0m\u001b[0;34m'allow_redirects'\u001b[0m\u001b[0;34m,\u001b[0m \u001b[0;32mTrue\u001b[0m\u001b[0;34m)\u001b[0m\u001b[0;34m\u001b[0m\u001b[0;34m\u001b[0m\u001b[0m\n\u001b[0;32m--> 546\u001b[0;31m         \u001b[0;32mreturn\u001b[0m \u001b[0mself\u001b[0m\u001b[0;34m.\u001b[0m\u001b[0mrequest\u001b[0m\u001b[0;34m(\u001b[0m\u001b[0;34m'GET'\u001b[0m\u001b[0;34m,\u001b[0m \u001b[0murl\u001b[0m\u001b[0;34m,\u001b[0m \u001b[0;34m**\u001b[0m\u001b[0mkwargs\u001b[0m\u001b[0;34m)\u001b[0m\u001b[0;34m\u001b[0m\u001b[0;34m\u001b[0m\u001b[0m\n\u001b[0m\u001b[1;32m    547\u001b[0m \u001b[0;34m\u001b[0m\u001b[0m\n\u001b[1;32m    548\u001b[0m     \u001b[0;32mdef\u001b[0m \u001b[0moptions\u001b[0m\u001b[0;34m(\u001b[0m\u001b[0mself\u001b[0m\u001b[0;34m,\u001b[0m \u001b[0murl\u001b[0m\u001b[0;34m,\u001b[0m \u001b[0;34m**\u001b[0m\u001b[0mkwargs\u001b[0m\u001b[0;34m)\u001b[0m\u001b[0;34m:\u001b[0m\u001b[0;34m\u001b[0m\u001b[0;34m\u001b[0m\u001b[0m\n",
      "\u001b[0;32m/usr/local/lib/python3.7/site-packages/requests/sessions.py\u001b[0m in \u001b[0;36mrequest\u001b[0;34m(self, method, url, params, data, headers, cookies, files, auth, timeout, allow_redirects, proxies, hooks, stream, verify, cert, json)\u001b[0m\n\u001b[1;32m    517\u001b[0m             \u001b[0mhooks\u001b[0m\u001b[0;34m=\u001b[0m\u001b[0mhooks\u001b[0m\u001b[0;34m,\u001b[0m\u001b[0;34m\u001b[0m\u001b[0;34m\u001b[0m\u001b[0m\n\u001b[1;32m    518\u001b[0m         )\n\u001b[0;32m--> 519\u001b[0;31m         \u001b[0mprep\u001b[0m \u001b[0;34m=\u001b[0m \u001b[0mself\u001b[0m\u001b[0;34m.\u001b[0m\u001b[0mprepare_request\u001b[0m\u001b[0;34m(\u001b[0m\u001b[0mreq\u001b[0m\u001b[0;34m)\u001b[0m\u001b[0;34m\u001b[0m\u001b[0;34m\u001b[0m\u001b[0m\n\u001b[0m\u001b[1;32m    520\u001b[0m \u001b[0;34m\u001b[0m\u001b[0m\n\u001b[1;32m    521\u001b[0m         \u001b[0mproxies\u001b[0m \u001b[0;34m=\u001b[0m \u001b[0mproxies\u001b[0m \u001b[0;32mor\u001b[0m \u001b[0;34m{\u001b[0m\u001b[0;34m}\u001b[0m\u001b[0;34m\u001b[0m\u001b[0;34m\u001b[0m\u001b[0m\n",
      "\u001b[0;32m/usr/local/lib/python3.7/site-packages/requests/sessions.py\u001b[0m in \u001b[0;36mprepare_request\u001b[0;34m(self, request)\u001b[0m\n\u001b[1;32m    460\u001b[0m             \u001b[0mauth\u001b[0m\u001b[0;34m=\u001b[0m\u001b[0mmerge_setting\u001b[0m\u001b[0;34m(\u001b[0m\u001b[0mauth\u001b[0m\u001b[0;34m,\u001b[0m \u001b[0mself\u001b[0m\u001b[0;34m.\u001b[0m\u001b[0mauth\u001b[0m\u001b[0;34m)\u001b[0m\u001b[0;34m,\u001b[0m\u001b[0;34m\u001b[0m\u001b[0;34m\u001b[0m\u001b[0m\n\u001b[1;32m    461\u001b[0m             \u001b[0mcookies\u001b[0m\u001b[0;34m=\u001b[0m\u001b[0mmerged_cookies\u001b[0m\u001b[0;34m,\u001b[0m\u001b[0;34m\u001b[0m\u001b[0;34m\u001b[0m\u001b[0m\n\u001b[0;32m--> 462\u001b[0;31m             \u001b[0mhooks\u001b[0m\u001b[0;34m=\u001b[0m\u001b[0mmerge_hooks\u001b[0m\u001b[0;34m(\u001b[0m\u001b[0mrequest\u001b[0m\u001b[0;34m.\u001b[0m\u001b[0mhooks\u001b[0m\u001b[0;34m,\u001b[0m \u001b[0mself\u001b[0m\u001b[0;34m.\u001b[0m\u001b[0mhooks\u001b[0m\u001b[0;34m)\u001b[0m\u001b[0;34m,\u001b[0m\u001b[0;34m\u001b[0m\u001b[0;34m\u001b[0m\u001b[0m\n\u001b[0m\u001b[1;32m    463\u001b[0m         )\n\u001b[1;32m    464\u001b[0m         \u001b[0;32mreturn\u001b[0m \u001b[0mp\u001b[0m\u001b[0;34m\u001b[0m\u001b[0;34m\u001b[0m\u001b[0m\n",
      "\u001b[0;32m/usr/local/lib/python3.7/site-packages/requests/models.py\u001b[0m in \u001b[0;36mprepare\u001b[0;34m(self, method, url, headers, files, data, params, auth, cookies, hooks, json)\u001b[0m\n\u001b[1;32m    311\u001b[0m \u001b[0;34m\u001b[0m\u001b[0m\n\u001b[1;32m    312\u001b[0m         \u001b[0mself\u001b[0m\u001b[0;34m.\u001b[0m\u001b[0mprepare_method\u001b[0m\u001b[0;34m(\u001b[0m\u001b[0mmethod\u001b[0m\u001b[0;34m)\u001b[0m\u001b[0;34m\u001b[0m\u001b[0;34m\u001b[0m\u001b[0m\n\u001b[0;32m--> 313\u001b[0;31m         \u001b[0mself\u001b[0m\u001b[0;34m.\u001b[0m\u001b[0mprepare_url\u001b[0m\u001b[0;34m(\u001b[0m\u001b[0murl\u001b[0m\u001b[0;34m,\u001b[0m \u001b[0mparams\u001b[0m\u001b[0;34m)\u001b[0m\u001b[0;34m\u001b[0m\u001b[0;34m\u001b[0m\u001b[0m\n\u001b[0m\u001b[1;32m    314\u001b[0m         \u001b[0mself\u001b[0m\u001b[0;34m.\u001b[0m\u001b[0mprepare_headers\u001b[0m\u001b[0;34m(\u001b[0m\u001b[0mheaders\u001b[0m\u001b[0;34m)\u001b[0m\u001b[0;34m\u001b[0m\u001b[0;34m\u001b[0m\u001b[0m\n\u001b[1;32m    315\u001b[0m         \u001b[0mself\u001b[0m\u001b[0;34m.\u001b[0m\u001b[0mprepare_cookies\u001b[0m\u001b[0;34m(\u001b[0m\u001b[0mcookies\u001b[0m\u001b[0;34m)\u001b[0m\u001b[0;34m\u001b[0m\u001b[0;34m\u001b[0m\u001b[0m\n",
      "\u001b[0;32m/usr/local/lib/python3.7/site-packages/requests/models.py\u001b[0m in \u001b[0;36mprepare_url\u001b[0;34m(self, url, params)\u001b[0m\n\u001b[1;32m    385\u001b[0m             \u001b[0merror\u001b[0m \u001b[0;34m=\u001b[0m \u001b[0merror\u001b[0m\u001b[0;34m.\u001b[0m\u001b[0mformat\u001b[0m\u001b[0;34m(\u001b[0m\u001b[0mto_native_string\u001b[0m\u001b[0;34m(\u001b[0m\u001b[0murl\u001b[0m\u001b[0;34m,\u001b[0m \u001b[0;34m'utf8'\u001b[0m\u001b[0;34m)\u001b[0m\u001b[0;34m)\u001b[0m\u001b[0;34m\u001b[0m\u001b[0;34m\u001b[0m\u001b[0m\n\u001b[1;32m    386\u001b[0m \u001b[0;34m\u001b[0m\u001b[0m\n\u001b[0;32m--> 387\u001b[0;31m             \u001b[0;32mraise\u001b[0m \u001b[0mMissingSchema\u001b[0m\u001b[0;34m(\u001b[0m\u001b[0merror\u001b[0m\u001b[0;34m)\u001b[0m\u001b[0;34m\u001b[0m\u001b[0;34m\u001b[0m\u001b[0m\n\u001b[0m\u001b[1;32m    388\u001b[0m \u001b[0;34m\u001b[0m\u001b[0m\n\u001b[1;32m    389\u001b[0m         \u001b[0;32mif\u001b[0m \u001b[0;32mnot\u001b[0m \u001b[0mhost\u001b[0m\u001b[0;34m:\u001b[0m\u001b[0;34m\u001b[0m\u001b[0;34m\u001b[0m\u001b[0m\n",
      "\u001b[0;31mMissingSchema\u001b[0m: Invalid URL 'h': No schema supplied. Perhaps you meant http://h?"
     ]
    }
   ],
   "source": [
    "for link in links:\n",
    "    response = session.get(link)\n",
    "    \n",
    "    # Web scraping often breaks due to small errors, so it can\n",
    "    # be easiest to wrap our code in a try block and grab the errors\n",
    "    try: \n",
    "    \n",
    "#         page_id = link.split('/')[-1].replace('.html', '')\n",
    "\n",
    "        images = [img.attrs.get('src') for img in response.html.find('.mainImage')]\n",
    "        print(images)\n",
    "\n",
    "#         title = response.html.find('#titletextonly', first=True).text\n",
    "\n",
    "#         description = response.html.find(\"#postingbody\", first=True).text\n",
    "\n",
    "#         clist_df = clist_df.append({'id': page_id,\n",
    "#             'images': images,\n",
    "#             'title': title,\n",
    "#             'description': description}, ignore_index=True)\n",
    "\n",
    "        clist_df = clist_df.append({\n",
    "            'images': images,}, ignore_index=True)\n",
    "\n",
    "    except Exception as e:\n",
    "        # Print the error\n",
    "        print(e)\n",
    "        # and print the associated link\n",
    "        print('failed on ' + link)"
   ]
  },
  {
   "cell_type": "code",
   "execution_count": 218,
   "metadata": {},
   "outputs": [
    {
     "name": "stdout",
     "output_type": "stream",
     "text": [
      "https://www.ysl.com/34/34962680VD_12_a_V4.jpg\n",
      "https://www.ysl.com/34/34980417BQ_12_a_V4.jpg\n",
      "https://www.ysl.com/34/34962679DG_12_a_V4.jpg\n"
     ]
    }
   ],
   "source": [
    "\n",
    "links.remove(\"Volvo\")\n",
    "\n",
    " \n",
    "elementOne = links [0]\n",
    "elementTwo = links [3]\n",
    "elementThree = links [6]\n",
    "\n",
    "\n",
    "# elementOne = links [9]\n",
    "# elementTwo = links [12]\n",
    "# elementThree = links [15]\n",
    "\n",
    "# elementOne = links []\n",
    "# elementTwo = links [12]\n",
    "# elementThree = links [15]\n",
    "\n",
    "# elementOne = links [9]\n",
    "# elementTwo = links [12]\n",
    "# elementThree = links [15]\n",
    "\n",
    "# elementOne = links [9]\n",
    "# elementTwo = links [12]\n",
    "# elementThree = links [15]\n",
    "\n",
    "print(elementOne)\n",
    "print(elementTwo)\n",
    "print(elementThree)\n",
    "\n",
    "# arrayList = []\n",
    "\n",
    "# arrayList.append(elementOne,)\n",
    "\n",
    "# print(arrayList)\n",
    "\n",
    "# len(links)\n",
    "\n",
    "# for link in links:\n",
    "\n",
    "\n",
    "    \n"
   ]
  },
  {
   "cell_type": "code",
   "execution_count": null,
   "metadata": {},
   "outputs": [],
   "source": [
    "\n"
   ]
  },
  {
   "cell_type": "code",
   "execution_count": null,
   "metadata": {},
   "outputs": [],
   "source": []
  },
  {
   "cell_type": "code",
   "execution_count": 27,
   "metadata": {},
   "outputs": [],
   "source": [
    "# for link in img_class:\n",
    "#     response = session.get(links)\n",
    "    \n",
    "#     try:\n",
    "#         post_id = link.split('/')[-1].replace('.html', '')\n",
    "#         images = [img.attrs]\n",
    "        \n",
    "#     except:\n",
    "#         print(\"omg\")\n",
    "#         print(links)\n",
    "\n",
    "\n",
    "# image_links = []\n",
    "\n",
    "# for link in image_links:\n",
    "#     image_links.append(link.attrs.get('src'))\n",
    "    \n",
    "# print(image_links)\n",
    "    \n",
    "# #     stopped here  \n"
   ]
  },
  {
   "cell_type": "code",
   "execution_count": null,
   "metadata": {},
   "outputs": [],
   "source": []
  },
  {
   "cell_type": "markdown",
   "metadata": {},
   "source": []
  },
  {
   "cell_type": "markdown",
   "metadata": {},
   "source": [
    "print(response.html.find('.mainImage'))"
   ]
  },
  {
   "cell_type": "code",
   "execution_count": 35,
   "metadata": {},
   "outputs": [
    {
     "data": {
      "text/html": [
       "<div>\n",
       "<style scoped>\n",
       "    .dataframe tbody tr th:only-of-type {\n",
       "        vertical-align: middle;\n",
       "    }\n",
       "\n",
       "    .dataframe tbody tr th {\n",
       "        vertical-align: top;\n",
       "    }\n",
       "\n",
       "    .dataframe thead th {\n",
       "        text-align: right;\n",
       "    }\n",
       "</style>\n",
       "<table border=\"1\" class=\"dataframe\">\n",
       "  <thead>\n",
       "    <tr style=\"text-align: right;\">\n",
       "      <th></th>\n",
       "      <th>id</th>\n",
       "      <th>title</th>\n",
       "      <th>images</th>\n",
       "      <th>description</th>\n",
       "    </tr>\n",
       "  </thead>\n",
       "  <tbody>\n",
       "  </tbody>\n",
       "</table>\n",
       "</div>"
      ],
      "text/plain": [
       "Empty DataFrame\n",
       "Columns: [id, title, images, description]\n",
       "Index: []"
      ]
     },
     "execution_count": 35,
     "metadata": {},
     "output_type": "execute_result"
    }
   ],
   "source": [
    "clist_df"
   ]
  },
  {
   "cell_type": "code",
   "execution_count": null,
   "metadata": {},
   "outputs": [],
   "source": []
  }
 ],
 "metadata": {
  "kernelspec": {
   "display_name": "Python 3",
   "language": "python",
   "name": "python3"
  },
  "language_info": {
   "codemirror_mode": {
    "name": "ipython",
    "version": 3
   },
   "file_extension": ".py",
   "mimetype": "text/x-python",
   "name": "python",
   "nbconvert_exporter": "python",
   "pygments_lexer": "ipython3",
   "version": "3.7.4"
  }
 },
 "nbformat": 4,
 "nbformat_minor": 2
}
